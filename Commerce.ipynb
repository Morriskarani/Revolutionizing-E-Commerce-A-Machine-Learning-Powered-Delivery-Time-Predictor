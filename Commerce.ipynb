{
 "cells": [
  {
   "cell_type": "code",
   "execution_count": null,
   "metadata": {},
   "outputs": [],
   "source": [
    "import numpy as np\n",
    "import pandas as pd\n",
    "import matplotlib.pyplot as plt\n",
    "import seaborn as sns"
   ]
  },
  {
   "cell_type": "code",
   "execution_count": null,
   "metadata": {},
   "outputs": [],
   "source": [
    "# Loading the dataset\n",
    "df = pd.read_csv('E_Commerce.csv')\n",
    "\n",
    "# Displaying the first few rows of the dataframe\n",
    "print(df.head())"
   ]
  },
  {
   "cell_type": "code",
   "execution_count": null,
   "metadata": {},
   "outputs": [],
   "source": [
    "# Checking for missing values in each column\n",
    "print(\"\\nMissing values in each column:\")\n",
    "print(df.isnull().sum())"
   ]
  },
  {
   "cell_type": "code",
   "execution_count": null,
   "metadata": {},
   "outputs": [],
   "source": [
    "# Checking the shape of the dataset\n",
    "print(f\"Shape of the dataset: {df.shape}\")"
   ]
  },
  {
   "cell_type": "code",
   "execution_count": null,
   "metadata": {},
   "outputs": [],
   "source": [
    "# Checking for duplicate rows in the dataset\n",
    "duplicates = df.duplicated().sum()\n",
    "\n",
    "# Displaying the number of duplicate rows\n",
    "print(f\"Number of duplicate rows: {duplicates}\")"
   ]
  },
  {
   "cell_type": "code",
   "execution_count": null,
   "metadata": {},
   "outputs": [],
   "source": [
    "# Check the number of unique values in the 'Warehouse_block' column\n",
    "warehouse_counts = df['Warehouse_block'].value_counts()\n",
    "\n",
    "# Display the counts\n",
    "print(warehouse_counts)\n"
   ]
  },
  {
   "cell_type": "code",
   "execution_count": null,
   "metadata": {},
   "outputs": [],
   "source": [
    "# Check the unique values in the 'Mode_of_Shipment' column\n",
    "shipment_modes = df['Mode_of_Shipment'].unique()\n",
    "\n",
    "# Print the unique modes of shipment\n",
    "print(f\"Modes of Shipment: {shipment_modes}\")\n"
   ]
  },
  {
   "cell_type": "code",
   "execution_count": null,
   "metadata": {},
   "outputs": [],
   "source": [
    "# Grouping by Mode_of_Shipment and calculating the mean of Reached.on.Time_Y.N\n",
    "shipment_on_time_mean = df.groupby('Mode_of_Shipment')['Reached.on.Time_Y.N'].mean()\n",
    "\n",
    "# Displaying the results\n",
    "print(shipment_on_time_mean)\n",
    "\n"
   ]
  },
  {
   "cell_type": "code",
   "execution_count": null,
   "metadata": {},
   "outputs": [],
   "source": [
    "# Check for duplicate rows\n",
    "print(f\"Number of duplicate rows: {df.duplicated().sum()}\")\n",
    "\n",
    "# Remove duplicates if any exist\n",
    "df = df.drop_duplicates()\n"
   ]
  },
  {
   "cell_type": "code",
   "execution_count": null,
   "metadata": {},
   "outputs": [],
   "source": [
    "df.describe()"
   ]
  },
  {
   "cell_type": "markdown",
   "metadata": {},
   "source": []
  },
  {
   "cell_type": "markdown",
   "metadata": {},
   "source": [
    "# Exploratory Data Analysis (EDA) "
   ]
  },
  {
   "cell_type": "code",
   "execution_count": null,
   "metadata": {},
   "outputs": [],
   "source": [
    "import seaborn as sns\n",
    "import matplotlib.pyplot as plt\n",
    "# Plot a bar chart\n",
    "plt.figure(figsize=(6,4))\n",
    "sns.countplot(x='Reached.on.Time_Y.N', data=df, palette=\"coolwarm\")\n",
    "plt.xlabel(\"Delivery Status (0 = On Time, 1 = Late)\")\n",
    "plt.ylabel(\"Count\")\n",
    "plt.title(\"Distribution of On-Time vs. Late Deliveries\")\n",
    "plt.xticks([0,1], ['On Time (0)', 'Late (1)'])\n",
    "plt.show()"
   ]
  },
  {
   "cell_type": "code",
   "execution_count": null,
   "metadata": {},
   "outputs": [],
   "source": [
    "print(\"\\nshipment Method Distribution:\")\n",
    "print(df['Mode_of_Shipment'].value_counts())"
   ]
  },
  {
   "cell_type": "code",
   "execution_count": null,
   "metadata": {},
   "outputs": [],
   "source": [
    "import seaborn as sns\n",
    "import matplotlib.pyplot as plt\n",
    "\n",
    "plt.figure(figsize=(8,5))\n",
    "sns.countplot(x='Mode_of_Shipment', hue='Reached.on.Time_Y.N', data=df, palette=\"coolwarm\")\n",
    "plt.xlabel(\"Mode of Shipment\")\n",
    "plt.ylabel(\"Count\")\n",
    "plt.title(\"Mode of Shipment vs. On-Time Delivery\")\n",
    "plt.legend(title=\"Delivery Status\", labels=[\"On Time (0)\", \"Late (1)\"])\n",
    "plt.show()\n"
   ]
  },
  {
   "cell_type": "code",
   "execution_count": null,
   "metadata": {},
   "outputs": [],
   "source": [
    "print(\"\\nWarehouse Distribution:\")\n",
    "print(df['Warehouse_block'].value_counts())\n"
   ]
  },
  {
   "cell_type": "code",
   "execution_count": null,
   "metadata": {},
   "outputs": [],
   "source": [
    "import seaborn as sns\n",
    "import matplotlib.pyplot as plt\n",
    "\n",
    "plt.figure(figsize=(8,5))\n",
    "sns.countplot(x='Warehouse_block', hue='Reached.on.Time_Y.N', data=df, palette=\"coolwarm\")\n",
    "plt.xlabel(\"Warehouse Block\")\n",
    "plt.ylabel(\"Count\")\n",
    "plt.title(\"Warehouse Performance: On-Time vs. Late Deliveries\")\n",
    "plt.legend(title=\"Delivery Status\", labels=[\"On Time (0)\", \"Late (1)\"])\n",
    "plt.show()\n"
   ]
  },
  {
   "cell_type": "code",
   "execution_count": null,
   "metadata": {},
   "outputs": [],
   "source": [
    "import seaborn as sns\n",
    "import matplotlib.pyplot as plt\n",
    "\n",
    "plt.figure(figsize=(8,5))\n",
    "sns.boxplot(x='Reached.on.Time_Y.N', y='Customer_care_calls', data=df, palette=\"coolwarm\")\n",
    "plt.xlabel(\"On-Time (0) vs. Late (1)\")\n",
    "plt.ylabel(\"Number of Calls\")\n",
    "plt.title(\"Customer Care Calls vs. Delivery Performance\")\n",
    "plt.show()\n"
   ]
  }
 ],
 "metadata": {
  "kernelspec": {
   "display_name": "Python 3",
   "language": "python",
   "name": "python3"
  },
  "language_info": {
   "codemirror_mode": {
    "name": "ipython",
    "version": 3
   },
   "file_extension": ".py",
   "mimetype": "text/x-python",
   "name": "python",
   "nbconvert_exporter": "python",
   "pygments_lexer": "ipython3",
   "version": "3.12.9"
  }
 },
 "nbformat": 4,
 "nbformat_minor": 2
}
